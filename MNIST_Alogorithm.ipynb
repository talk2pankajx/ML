{
 "cells": [
  {
   "cell_type": "code",
   "execution_count": 2,
   "id": "d924711f",
   "metadata": {},
   "outputs": [],
   "source": [
    "##importing MNIST dataset from the tensorflow and the libraries as well!\n",
    "\n",
    "import tensorflow as tf\n",
    "from tensorflow import keras\n",
    "import numpy as np\n",
    "import tensorflow_datasets as tfsd"
   ]
  },
  {
   "cell_type": "code",
   "execution_count": 3,
   "id": "40099746",
   "metadata": {},
   "outputs": [],
   "source": [
    "mnist_dataset, mnist_info =tfsd.load(name='mnist',with_info=True,as_supervised=True)\n",
    "\n",
    "mnist_train, mnist_test = mnist_dataset['train'], mnist_dataset['test']\n",
    "\n",
    "## train and test are already labelled data so we took out them as we are still working on the labelled data due to supervised learning\n",
    "\n",
    "num_validation_samples = 0.1 * mnist_info.splits['train'].num_examples\n",
    "num_validation_data = tf.cast(num_validation_samples,tf.int64)\n",
    "\n",
    "num_test_samples=mnist_info.splits['test'].num_examples\n",
    "num_test_samples=tf.cast(num_test_samples,tf.int64)\n",
    "\n"
   ]
  },
  {
   "cell_type": "code",
   "execution_count": 4,
   "id": "2bb8227e",
   "metadata": {},
   "outputs": [],
   "source": [
    "##Environment Build repo\n",
    "\n",
    "##conda env remove -n py3-TF2.0\n",
    "##conda install -n base nb_conda_kernels\n",
    "##conda create -n py3-TF2.0 python=3.8\n",
    "##conda activate py3-TF2.0\n",
    "##conda install ipykernel\n",
    "##pip install tensorflow\n",
    "##pip install tensorflow-datasets\n",
    "##pip install ipywidgets"
   ]
  },
  {
   "cell_type": "code",
   "execution_count": 5,
   "id": "4604d3f5",
   "metadata": {},
   "outputs": [],
   "source": [
    "##Scaling the inputs\n",
    "\n",
    "def scale(image, label):\n",
    "    image=tf.cast(image,tf.float32)\n",
    "    image/=255.\n",
    "    return image, label\n",
    "\n",
    "\n",
    "scaled_train_and_validation_data = mnist_train.map(scale)\n",
    "\n",
    "scaled_test_data=mnist_test.map(scale)"
   ]
  },
  {
   "cell_type": "code",
   "execution_count": 6,
   "id": "fd2e6385",
   "metadata": {},
   "outputs": [],
   "source": [
    "##shuffling the data on the dataset as it sometime the issues may arrive if the dataset is done in ascending or descending order\n",
    "\n",
    "BUFFER_SIZE=10000\n",
    "\n",
    "##Buffer size is set for the number of batches at a time for the scaled dataset\n",
    "\n",
    "shuffled_train_and_validation_data = scaled_train_and_validation_data.shuffle(BUFFER_SIZE)\n",
    "\n",
    "validation_data=shuffled_train_and_validation_data.take(num_validation_data)\n",
    "train_data=shuffled_train_and_validation_data.skip(num_validation_data)\n",
    "\n",
    "BATCH_SIZE=150\n",
    "\n",
    "## No of samples in each batch\n",
    "\n",
    "train_data = train_data.batch(BATCH_SIZE)\n",
    "\n",
    "validation_data = validation_data.batch(num_validation_data)\n",
    "test_data = scaled_test_data.batch(num_test_samples)\n",
    "\n",
    "##next - takes next batch and Iter - set the batch to the iteration as a 2 tuple but doens't loads the data\n",
    "\n",
    "validation_inputs, validation_targets = next(iter(validation_data))"
   ]
  },
  {
   "cell_type": "code",
   "execution_count": 66,
   "id": "1624d592",
   "metadata": {},
   "outputs": [],
   "source": [
    "##Creating the model using tensorflow\n",
    "## we have 784 inputs as per the matrix and 10 outputs\n",
    "##Layers which we wanted to go ahead with would be how many layers to be constructed on the is our schema\n",
    "\n",
    "input_size = 784\n",
    "output_size=10\n",
    "hidden_layer_size = 400\n",
    "# tf.keras.layers.Dense is basically implementing: output = activation(dot(input, weight) + bias)\n",
    "\n",
    "model = tf.keras.Sequential([tf.keras.layers.Flatten(input_shape=(28,28,1)),##flatten since no CNN's\n",
    "                             tf.keras.layers.Dense(hidden_layer_size,activation='relu'),## adding layers to the model\n",
    "                             tf.keras.layers.Dense(hidden_layer_size,activation='tanh'),\n",
    "                             tf.keras.layers.Dense(output_size,activation = 'softmax')                                                            \n",
    "])"
   ]
  },
  {
   "cell_type": "code",
   "execution_count": 67,
   "id": "304992cc",
   "metadata": {},
   "outputs": [],
   "source": [
    "##Optimizer and loss function\n",
    "\n",
    "\n",
    "model.compile(optimizer='adam',loss='sparse_categorical_crossentropy',metrics=['accuracy'])\n",
    "\n",
    "## loss fuction is chosen as sparse_categorical_crossentropy as due to it provides one hot encoding\n"
   ]
  },
  {
   "cell_type": "code",
   "execution_count": 68,
   "id": "abca3700",
   "metadata": {},
   "outputs": [
    {
     "name": "stdout",
     "output_type": "stream",
     "text": [
      "Epoch 1/5\n",
      "540/540 - 5s - loss: 0.2165 - accuracy: 0.9347 - val_loss: 0.0974 - val_accuracy: 0.9687 - 5s/epoch - 9ms/step\n",
      "Epoch 2/5\n",
      "540/540 - 4s - loss: 0.0838 - accuracy: 0.9738 - val_loss: 0.0639 - val_accuracy: 0.9808 - 4s/epoch - 7ms/step\n",
      "Epoch 3/5\n",
      "540/540 - 4s - loss: 0.0566 - accuracy: 0.9826 - val_loss: 0.0571 - val_accuracy: 0.9817 - 4s/epoch - 7ms/step\n",
      "Epoch 4/5\n",
      "540/540 - 4s - loss: 0.0421 - accuracy: 0.9865 - val_loss: 0.0504 - val_accuracy: 0.9840 - 4s/epoch - 7ms/step\n",
      "Epoch 5/5\n",
      "540/540 - 4s - loss: 0.0317 - accuracy: 0.9892 - val_loss: 0.0401 - val_accuracy: 0.9878 - 4s/epoch - 7ms/step\n"
     ]
    },
    {
     "data": {
      "text/plain": [
       "<keras.src.callbacks.History at 0x2b2d7f206a0>"
      ]
     },
     "execution_count": 68,
     "metadata": {},
     "output_type": "execute_result"
    }
   ],
   "source": [
    "NUM_EPOCHS = 5\n",
    "\n",
    "model.fit(train_data,epochs=NUM_EPOCHS,validation_data =(validation_inputs,validation_targets),verbose=2)"
   ]
  },
  {
   "cell_type": "code",
   "execution_count": 70,
   "id": "884698ca",
   "metadata": {},
   "outputs": [
    {
     "name": "stdout",
     "output_type": "stream",
     "text": [
      "1/1 [==============================] - 0s 178ms/step - loss: 0.0735 - accuracy: 0.9798\n"
     ]
    }
   ],
   "source": [
    "test_loss, test_accuracy = model.evaluate(test_data)"
   ]
  },
  {
   "cell_type": "code",
   "execution_count": 71,
   "id": "6c9c8177",
   "metadata": {},
   "outputs": [
    {
     "name": "stdout",
     "output_type": "stream",
     "text": [
      "Test loss: 0.07. Test accuracy: 97.98%\n"
     ]
    }
   ],
   "source": [
    "print('Test loss: {0:.2f}. Test accuracy: {1:.2f}%'.format(test_loss, test_accuracy*100.))"
   ]
  },
  {
   "cell_type": "code",
   "execution_count": null,
   "id": "b114b45b",
   "metadata": {},
   "outputs": [],
   "source": [
    "## so with the 2 hidden layers size of 400 and BATCH_SIZE=150 we have acheived the accuracy of 97.98% "
   ]
  }
 ],
 "metadata": {
  "kernelspec": {
   "display_name": "py3-TF2.0",
   "language": "python",
   "name": "py3-tf2.0"
  },
  "language_info": {
   "codemirror_mode": {
    "name": "ipython",
    "version": 3
   },
   "file_extension": ".py",
   "mimetype": "text/x-python",
   "name": "python",
   "nbconvert_exporter": "python",
   "pygments_lexer": "ipython3",
   "version": "3.8.17"
  }
 },
 "nbformat": 4,
 "nbformat_minor": 5
}
